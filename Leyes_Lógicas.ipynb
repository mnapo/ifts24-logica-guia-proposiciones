{
  "metadata": {
    "kernelspec": {
      "name": "python",
      "display_name": "Python (Pyodide)",
      "language": "python"
    },
    "language_info": {
      "codemirror_mode": {
        "name": "python",
        "version": 3
      },
      "file_extension": ".py",
      "mimetype": "text/x-python",
      "name": "python",
      "nbconvert_exporter": "python",
      "pygments_lexer": "ipython3",
      "version": "3.8"
    }
  },
  "nbformat_minor": 5,
  "nbformat": 4,
  "cells": [
    {
      "id": "de774b46-26ec-4454-a561-946faf10a672",
      "cell_type": "markdown",
      "source": "# Leyes lógicas\n\n_tabla transcrita del material de clase (logica 2.pdf)_\n\n---\n\n| Ley              | Proposición                                                                      |\n|------------------|----------------------------------------------------------------------------------|\n| Involución       | $\\neg{(\\neg{p})}\\equiv{p}$                                                       |\n| Conmutatividad   | $p\\land q\\equiv q\\land p, p\\lor q\\equiv q\\lor p$                                 |\n| Asociatividad    | $p\\land(q\\land r)\\equiv (p\\land q)\\land r, p\\lor(q\\lor r)\\equiv (p\\lor q)\\lor r$ |\n| Distributividad  | $p\\land(q\\lor r)\\equiv (p\\land q)\\lor(p\\land r)$                                 |\n|                  | $p\\lor(q\\land r)\\equiv (p\\lor q)\\land(p\\lor r)$                                  |\n| Idempotencia     | $p\\land p\\equiv p, p\\lor p\\equiv p$                                              |\n| De Morgan        | $\\neg(p\\land q)\\equiv (\\neg p)\\lor(\\neg q)$                                      |\n|                  | $\\neg(p\\lor q)\\equiv (\\neg p)\\land(\\neg q)$                                      |\n| Absorción        | $p\\land(p\\lor q)\\equiv p, p\\lor(p\\land q)\\equiv p$                               |\n| Identidad        | $p\\land V\\equiv p, p\\lor F\\equiv p$                                              |\n| Dominación       | $p\\lor V\\equiv V, p\\land F\\equiv F$                                              |\n| Bicondicional    | $p\\Leftrightarrow q \\equiv (p\\implies q)\\land (q\\implies p)$                     |\n| Condicional      | $p\\implies q\\equiv (\\neg p)\\lor q$                                               |\n| Tercero excluído | $p\\lor(\\neg p)\\equiv V$                                                          |\n| Simplificación   | $p\\land q\\implies p\\equiv V$                                                     |\n| Adición          | $p\\implies p\\lor q\\equiv V$                                                      |",
      "metadata": {}
    }
  ]
}