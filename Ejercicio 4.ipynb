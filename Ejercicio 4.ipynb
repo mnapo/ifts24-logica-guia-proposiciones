{
  "metadata": {
    "kernelspec": {
      "name": "python",
      "display_name": "Python (Pyodide)",
      "language": "python"
    },
    "language_info": {
      "codemirror_mode": {
        "name": "python",
        "version": 3
      },
      "file_extension": ".py",
      "mimetype": "text/x-python",
      "name": "python",
      "nbconvert_exporter": "python",
      "pygments_lexer": "ipython3",
      "version": "3.8"
    }
  },
  "nbformat_minor": 5,
  "nbformat": 4,
  "cells": [
    {
      "id": "de774b46-26ec-4454-a561-946faf10a672",
      "cell_type": "markdown",
      "source": "# Guía Proposiciones: Ejercicio 4\n\n## a) Tautología\n| $p$ | $q$ | $\\neg p$ | $q\\land(\\neg p)$ | $q\\land(\\neg p)\\implies p$ | $q\\lor(q\\land(\\neg p)\\implies p)$ |\n|-----|-----|----------|------------------|----------------------------|-----------------------------------|\n| V   | V   | F        | F                | V                          | V                                 |\n| V   | F   | F        | F                | V                          | V                                 |\n| F   | V   | V        | F                | V                          | V                                 |\n| F   | F   | V        | F                | V                          | V                                 |",
      "metadata": {}
    }
  ]
}