{
  "metadata": {
    "kernelspec": {
      "name": "python",
      "display_name": "Python (Pyodide)",
      "language": "python"
    },
    "language_info": {
      "codemirror_mode": {
        "name": "python",
        "version": 3
      },
      "file_extension": ".py",
      "mimetype": "text/x-python",
      "name": "python",
      "nbconvert_exporter": "python",
      "pygments_lexer": "ipython3",
      "version": "3.8"
    }
  },
  "nbformat_minor": 5,
  "nbformat": 4,
  "cells": [
    {
      "id": "de774b46-26ec-4454-a561-946faf10a672",
      "cell_type": "markdown",
      "source": "# Guía Proposiciones: Ejercicio 1\n---\n## a)\nEs una proposición\n## b)\nNo es una proposición, no se le puede asignar valor de verdad\n## c)\nNo es una proposición, si no una orden\n## d)\nEs una proposición\n## e)\nEs una proposición\n## f)\nEs una proposición\n## g)\nEs una proposición\n## h)\nEs una proposición\n\n---\n\n## Nota\nEn esta clase hubieron distintas posiciones respecto a si los enunciados con incógnita \"x\" (ecuaciones) son o no proposiciones, dado que según de qué contexto se trate, esa \"x\" puede ser tomada como un número o no, cambiando su valor de verdad. Por lo tanto dependerá de cómo definamos el valor de verdad. Si el valor de verdad puede cambiar con el contexto entonces sí son proposiciones, si no no.",
      "metadata": {}
    }
  ]
}