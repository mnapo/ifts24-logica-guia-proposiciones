{
  "metadata": {
    "kernelspec": {
      "name": "python",
      "display_name": "Python (Pyodide)",
      "language": "python"
    },
    "language_info": {
      "codemirror_mode": {
        "name": "python",
        "version": 3
      },
      "file_extension": ".py",
      "mimetype": "text/x-python",
      "name": "python",
      "nbconvert_exporter": "python",
      "pygments_lexer": "ipython3",
      "version": "3.8"
    }
  },
  "nbformat_minor": 5,
  "nbformat": 4,
  "cells": [
    {
      "id": "de774b46-26ec-4454-a561-946faf10a672",
      "cell_type": "markdown",
      "source": "# Guía Proposiciones: Ejercicio 2\n---\n## a)\nSi un número es par (**antecedente**) entonces su cuadrado también lo es (**consecuente**)\n## b)\nSi un número par es múltiplo de 3 (**antecedente**) entonces es divisible por 3 (**consecuente**)\n## c)\nSi estoy cursando Análisis II (**antecedente**) entonces tengo aprobada Análisis I (**consecuente**)\n## d)\nSi divido 23456 por cuatro (**antecedente**) entonces obtengo resto 0 (**consecuente**)\n## e)\nSi aprobé el examen (**antecedente**) entonces tengo como mínimo 3 ejercicios aprobados (**consecuente**)",
      "metadata": {}
    }
  ]
}