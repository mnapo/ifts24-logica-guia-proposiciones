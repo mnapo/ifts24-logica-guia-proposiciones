{
  "metadata": {
    "kernelspec": {
      "name": "python",
      "display_name": "Python (Pyodide)",
      "language": "python"
    },
    "language_info": {
      "codemirror_mode": {
        "name": "python",
        "version": 3
      },
      "file_extension": ".py",
      "mimetype": "text/x-python",
      "name": "python",
      "nbconvert_exporter": "python",
      "pygments_lexer": "ipython3",
      "version": "3.8"
    }
  },
  "nbformat_minor": 5,
  "nbformat": 4,
  "cells": [
    {
      "id": "de774b46-26ec-4454-a561-946faf10a672",
      "cell_type": "markdown",
      "source": "# Guía Proposiciones: Ejercicio 3\n\n## a)\nPara que $t(v) = V$ ambas partes de la conjunción, que es la operación \"más externa\", deben ser verdaderas. Dado que del lado derecho tenemos $\\neg p = V$, del lado izquierdo tenemos a $p = F$. \nConcretamente, del lado izquierdo tenemos al condicional $p\\land q\\implies(\\neg r)$, que de la única manera que puede ser falso es si $\\neg r = F$ y $p\\land q = F$, en cuyo caso la t resultaría falsa.\nEntonces, que t sea verdadera es resultado de alguna de estas tres posibilidades:\n* $p\\land q = V$ y $\\neg r = V$\n* $p\\land q = F$ y $\\neg r = V$\n* $p\\land q = F$ y $\\neg r = F$\n\nPero ninguna de estas posibilidades dependen únicamente de $\\neg r$. Por lo tanto, no podemos deducir que $r$ es verdadera o falsa solo sabiendo que $t(v) = V$\n\n## b)\nAhora la operación de mayor prioridad de una disyunción, por lo que si $t(v) = F$ ambos operandos son falsos. Sabiendo esto, $p$ también es falsa y entonces $\\neg p$ es verdadera.\nDel lado izquierdo de la disyunción, tenemos un condicional que resulta falso. Es decir, donde el antecedente es verdadero y el consecuente es falso. El consecuente es $\\neg r$. Entonces sí, sabemos que para que $t(v) = F$, $\\neg r$ debe ser falsa y por lo tanto $r$ es verdadera.\nEn cambio, no podemos saber si $q$ es verdadera, porque $\\neg q$ pertenece al antecedente. Asi que, sea $\\neg q$ verdadera o falsa, el condicional es verdadero de igual manera (dado que $r$ resultó ser verdadera).",
      "metadata": {}
    },
    {
      "id": "781936b2-8637-43b4-a74b-685b04d0f401",
      "cell_type": "code",
      "source": "",
      "metadata": {
        "trusted": true
      },
      "outputs": [],
      "execution_count": null
    }
  ]
}